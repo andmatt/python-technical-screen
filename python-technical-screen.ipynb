{
 "cells": [
  {
   "cell_type": "markdown",
   "metadata": {},
   "source": [
    "### CEE Analytics Python Data Engineer Technical Interview\n",
    "\n",
    "Below are 4 questions that represent fairly common data manipulation problems that may come up on the job. You will be evaluated on obtaining the correct solution, along with the approach that you take with each problem. Please write comments inline to explain your thought proccess.\n",
    "\n",
    "It is recommended that you have a basic grasp of using `pandas` and `jupyter notebook` commands before beginning.\n",
    "The 4 below imports as well as the `client_data` variable should all be used in the exercise.\n",
    "\n",
    "Please put all work you used to reach the solution in cells under the corresponding question. Please make sure you run the `START` and `END` cells to measure the time it takes to complete this exercise.\n",
    "\n",
    "Please download the completed notebook and email it to mcella@redhat.com."
   ]
  },
  {
   "cell_type": "code",
   "execution_count": null,
   "metadata": {
    "ExecuteTime": {
     "end_time": "2019-01-08T16:29:35.597213Z",
     "start_time": "2019-01-08T16:29:35.190706Z"
    }
   },
   "outputs": [],
   "source": [
    "import pandas as pd\n",
    "import datetime\n",
    "import pytz\n",
    "from io import StringIO"
   ]
  },
  {
   "cell_type": "code",
   "execution_count": null,
   "metadata": {
    "ExecuteTime": {
     "end_time": "2019-01-08T16:29:35.604799Z",
     "start_time": "2019-01-08T16:29:35.601074Z"
    }
   },
   "outputs": [],
   "source": [
    "client_data = \"\"\"\n",
    "report generated 1/9/2019\t\t\n",
    "item_id\tcost\tinfo\n",
    "1\t67.72960433\tElectronics: 11\n",
    "2\t308.6682773\tAppliances: 20\n",
    "3\t319.8893452\tMisc: 11\n",
    "4\t417.9256748\tElectronics: 5\n",
    "5\t685.7457956\tElectronics: 50\n",
    "6\t657.8005109\tMisc: 7\n",
    "7\t752.1681723\t\n",
    "8\t360.5652095\tAppliances: 8\n",
    "9\t114.1540473\t\n",
    "10\t656.0618632\tMisc: 11\n",
    "\"\"\""
   ]
  },
  {
   "cell_type": "code",
   "execution_count": null,
   "metadata": {
    "ExecuteTime": {
     "end_time": "2019-01-08T16:29:35.611749Z",
     "start_time": "2019-01-08T16:29:35.607735Z"
    }
   },
   "outputs": [],
   "source": [
    "START = pd.to_datetime(\"now\")"
   ]
  },
  {
   "cell_type": "markdown",
   "metadata": {},
   "source": [
    "#### 1. Read in the `client_data` multiline string as a pandas dataframe, ignore rows that are not valid ie. rows containing timestamps or other metadata."
   ]
  },
  {
   "cell_type": "code",
   "execution_count": null,
   "metadata": {},
   "outputs": [],
   "source": []
  },
  {
   "cell_type": "markdown",
   "metadata": {
    "ExecuteTime": {
     "end_time": "2019-01-07T20:43:31.100642Z",
     "start_time": "2019-01-07T20:43:31.080397Z"
    }
   },
   "source": [
    "#### 2. Split the `info` column into the two columns indicated below. If a column is null, set `category` to a string \"Null\" and `quantity_on_hand` to \"0\"\n",
    "\n",
    "Info is a combination of 2 columns - `category` and `quantity_on_hand`, seperated by \": \""
   ]
  },
  {
   "cell_type": "code",
   "execution_count": null,
   "metadata": {},
   "outputs": [],
   "source": []
  },
  {
   "cell_type": "markdown",
   "metadata": {},
   "source": [
    "#### 3. Create a new column called `category_sum` that is equal to the sum of quantity on hand for the category in each row"
   ]
  },
  {
   "cell_type": "code",
   "execution_count": null,
   "metadata": {},
   "outputs": [],
   "source": []
  },
  {
   "cell_type": "markdown",
   "metadata": {},
   "source": [
    "#### 4. For each column, replace `_` with one whitespace and capitalize each word . Add a column called `Publish Time` that is equal to the current timestamp __IN UTC TIMEZONE__ for every row\n",
    "\n",
    "`Publish Time` should be a `datetime64[ns]` object in format `YYYY-MM-DD HH:MM:SS:MS`"
   ]
  },
  {
   "cell_type": "code",
   "execution_count": null,
   "metadata": {},
   "outputs": [],
   "source": []
  },
  {
   "cell_type": "markdown",
   "metadata": {},
   "source": [
    "#### That's All - Run the below cell and email the notebook when you are done"
   ]
  },
  {
   "cell_type": "code",
   "execution_count": null,
   "metadata": {
    "ExecuteTime": {
     "end_time": "2019-01-08T16:29:35.849347Z",
     "start_time": "2019-01-08T16:29:35.844281Z"
    }
   },
   "outputs": [],
   "source": [
    "END = pd.to_datetime(\"now\")\n",
    "print(END-START)"
   ]
  }
 ],
 "metadata": {
  "kernelspec": {
   "display_name": "Python 3",
   "language": "python",
   "name": "python3"
  },
  "language_info": {
   "codemirror_mode": {
    "name": "ipython",
    "version": 3
   },
   "file_extension": ".py",
   "mimetype": "text/x-python",
   "name": "python",
   "nbconvert_exporter": "python",
   "pygments_lexer": "ipython3",
   "version": "3.5.1"
  },
  "toc": {
   "base_numbering": 1,
   "nav_menu": {},
   "number_sections": true,
   "sideBar": true,
   "skip_h1_title": false,
   "title_cell": "Table of Contents",
   "title_sidebar": "Contents",
   "toc_cell": false,
   "toc_position": {},
   "toc_section_display": true,
   "toc_window_display": false
  }
 },
 "nbformat": 4,
 "nbformat_minor": 2
}
